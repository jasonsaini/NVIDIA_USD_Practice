{
 "cells": [
  {
   "cell_type": "markdown",
   "metadata": {},
   "source": [
    "<a href=\"https://www.nvidia.com/dli\"> <img src=\"images/DLI_Header.png\" alt=\"Header\" style=\"width: 400px;\"/> </a>"
   ]
  },
  {
   "cell_type": "markdown",
   "metadata": {},
   "source": [
    "# Advanced USD\n",
    "\n",
    "Now that we have explored the [fundamental concepts of USD](./01_USD_Fundamentals.ipynb) in the first lesson, we will learn how to use [USD's Python APIs](https://docs.omniverse.nvidia.com/py/kit/docs/api/pxr.html) to programmatically create and manipulate content.\n",
    "\n",
    "## Setup\n",
    "\n",
    "Just as we've mentioned in the first lesson, we wanted to highlight that visualizing USD content typically requires installing software on a workstation. For this reason, we have created specialized tools to assist in previewing content created during this lab. While these tools only surface a subset of everything USD has to offer, we hope this will provide a more wholesome learning experience, and encourage you to continue this learning journey towards [USD](https://usd.nvidia.com) and [Omniverse](https://developer.nvidia.com/nvidia-omniverse-platform).\n",
    "\n",
    "If you are interested in the particulars of this rendering process, check out *[utils/display.py](utils/display.py)* to learn more."
   ]
  },
  {
   "cell_type": "code",
   "execution_count": null,
   "metadata": {},
   "outputs": [],
   "source": [
    "from utils.display import display_usd"
   ]
  },
  {
   "cell_type": "markdown",
   "metadata": {},
   "source": [
    "In addition, should you want to download or edit the scripts and USD assets we'll be creating during this lesson, feel free to navigate to the */usd_files/advanced_usd* folder."
   ]
  },
  {
   "cell_type": "code",
   "execution_count": null,
   "metadata": {},
   "outputs": [],
   "source": [
    "base_path = \"usd_files/advanced_usd/\""
   ]
  },
  {
   "cell_type": "markdown",
   "metadata": {},
   "source": [
    "## Learning Objectives:\n",
    "\n",
    "* [Opening USD Stages](#Opening-USD-Stages)\n",
    "* [Composition Arcs](#USD-Format-Overview)\n",
    "* [Prims, Attributes and Metadata](#Prims,-Attributes-and-Metadata)\n",
    "* [Hierarchy and Traversal](#Hierarchy-and-Traversal)"
   ]
  },
  {
   "cell_type": "markdown",
   "metadata": {},
   "source": [
    "## Opening USD Stages\n",
    "\n",
    "A [stage](https://graphics.pixar.com/usd/docs/api/class_usd_stage.html#details) is the outermost container for scene description. Working with USD Stages is straight forward, as most times everything is one function call away."
   ]
  },
  {
   "cell_type": "code",
   "execution_count": null,
   "metadata": {},
   "outputs": [],
   "source": [
    "path = base_path + \"stages/\""
   ]
  },
  {
   "cell_type": "markdown",
   "metadata": {},
   "source": [
    "To load a USD file as a USD Stage we can use `Usd.Stage.Open(path)`:"
   ]
  },
  {
   "cell_type": "code",
   "execution_count": null,
   "metadata": {},
   "outputs": [],
   "source": [
    "%%file usd_files/advanced_usd/stages/sphere_sample.usda\n",
    "#usda 1.0\n",
    "\n",
    "def Sphere \"sphere\"\n",
    "{\n",
    "}"
   ]
  },
  {
   "cell_type": "code",
   "execution_count": null,
   "metadata": {},
   "outputs": [],
   "source": [
    "from pxr import Usd\n",
    "\n",
    "stage = Usd.Stage.Open(path + 'sphere_sample.usda')"
   ]
  },
  {
   "cell_type": "markdown",
   "metadata": {},
   "source": [
    "To create a new Stage use `Usd.Stage.CreateNew(path)`:"
   ]
  },
  {
   "cell_type": "code",
   "execution_count": null,
   "metadata": {},
   "outputs": [],
   "source": [
    "stage = Usd.Stage.CreateNew(path + 'a_new_stage.usd')"
   ]
  },
  {
   "cell_type": "markdown",
   "metadata": {},
   "source": [
    "To save a loaded Stage use `Usd.Stage.Save(path)`:"
   ]
  },
  {
   "cell_type": "code",
   "execution_count": null,
   "metadata": {},
   "outputs": [],
   "source": [
    "stage = Usd.Stage.Open(path + 'sphere_sample.usda')\n",
    "# Do something to the stage\n",
    "stage.Save()  "
   ]
  },
  {
   "cell_type": "markdown",
   "metadata": {},
   "source": [
    "To export a stage to a new file, we can use `Usd.Stage.Export()`. This function allows us to transition between serialization formats (*usda* or *usdc*) as well, based on the file extension provided."
   ]
  },
  {
   "cell_type": "code",
   "execution_count": null,
   "metadata": {},
   "outputs": [],
   "source": [
    "stage = Usd.Stage.Open(path + 'sphere_sample.usda')\n",
    "# Do something to the stage\n",
    "stage.Export(path + 'sphere_sample.usdc')"
   ]
  },
  {
   "cell_type": "markdown",
   "metadata": {},
   "source": [
    "## Composition Arcs\n",
    "\n",
    "The goal of this section is to introduce some basics of USD including variants, references, definitions, and schemas. \n",
    "\n",
    "While it does not cover the full extent of USD composition, it shows the practical foundations of some of the most useful features to get started with. "
   ]
  },
  {
   "cell_type": "code",
   "execution_count": null,
   "metadata": {},
   "outputs": [],
   "source": [
    "path = base_path + \"comp_arcs/\""
   ]
  },
  {
   "cell_type": "markdown",
   "metadata": {},
   "source": [
    "### Creating a Layer in USD\n",
    "\n",
    "USD files represent a layer in the USD lexicon.  From the [Pixar Glossary](https://graphics.pixar.com/usd/docs/USD-Glossary.html#USDGlossary-Layer):\n",
    "> A *Layer* is the atomic persistent container of scene description for USD.  A layer contains zero or more `PrimSpecs`, that in turn describe `Property` and `Metadata` values.  Each layer possesses an *identifier* that can be used to construct references to the layer from other layers.  Although it may be possible to someday remove this restriction, layers must currently correspond to files on a filesystem accessible via POSIX filesystem interfaces.\n",
    "\n",
    "The following section will demonstrate how to create a basic Layer using Python.\n",
    "\n",
    "See Pixar's [_USD Tutorials_](https://graphics.pixar.com/usd/docs/USD-Tutorials.html) for more details."
   ]
  },
  {
   "cell_type": "code",
   "execution_count": null,
   "metadata": {},
   "outputs": [],
   "source": [
    "from pxr import Usd, UsdGeom\n",
    "\n",
    "# Create a temporary stage in memory\n",
    "stage = Usd.Stage.CreateInMemory(\"SampleLayer.usda\")\n",
    "\n",
    "# Create a transform and add a sphere as mesh data\n",
    "xformPrim = UsdGeom.Xform.Define(stage, \"/MySphere\")\n",
    "\n",
    "# Set a translation\n",
    "UsdGeom.XformCommonAPI(xformPrim).SetTranslate((7, 8, 9))\n",
    "\n",
    "spherePrim = UsdGeom.Sphere.Define(stage, \"/MySphere/MeshData\")\n",
    "\n",
    "# Get the sphere as a generic prim\n",
    "sphere = stage.GetPrimAtPath(\"/MySphere/MeshData\")\n",
    "\n",
    "# Get the extent and radius parameters for the prim\n",
    "radiusAttr = sphere.GetAttribute(\"radius\")\n",
    "extentAttr = sphere.GetAttribute(\"extent\")\n",
    "\n",
    "# Access the sphere schema to set the color\n",
    "colorAttr = spherePrim.GetDisplayColorAttr()\n",
    "\n",
    "# Set the radius to 2\n",
    "radiusAttr.Set(2)\n",
    "\n",
    "# Expand the extents to match the new radius\n",
    "extentAttr.Set(extentAttr.Get() * 2)\n",
    "\n",
    "# Make the sphere blue\n",
    "colorAttr.Set([(0.0, 0.0, 1.0)])\n",
    "\n",
    "# Print out the stage\n",
    "print(stage.GetRootLayer().ExportToString())\n",
    "\n",
    "# Save the resulting layer\n",
    "stage.Export(path + \"SampleLayer.usda\", addSourceFileComment=False)"
   ]
  },
  {
   "cell_type": "code",
   "execution_count": null,
   "metadata": {},
   "outputs": [],
   "source": [
    "display_usd(path + \"SampleLayer.usda\")"
   ]
  },
  {
   "cell_type": "markdown",
   "metadata": {},
   "source": [
    "### Understanding how References work\n",
    "\n",
    "One of the most basic and useful tools for composing scenes in USD is the reference. \n",
    "\n",
    "From the [USD Glossary](https://graphics.pixar.com/usd/docs/USD-Glossary.html#USDGlossary-References): \n",
    "\n",
    "> The primary use for References is to compose smaller units of scene description into larger *aggregates*, building up a namespace that includes the \"encapsulated\" result of composing the scene description targeted by a reference.\n",
    "\n",
    "The following example demonstrates how to make a reference, then override properties of the referenced data. "
   ]
  },
  {
   "cell_type": "code",
   "execution_count": null,
   "metadata": {},
   "outputs": [],
   "source": [
    "from pxr import Usd, UsdGeom\n",
    "\n",
    "# Create a temporary stage in memory\n",
    "stage = Usd.Stage.CreateInMemory('ReferenceExample.usda')\n",
    "\n",
    "# Create a place for the reference to live\n",
    "refSphere = stage.OverridePrim('/refSphere')\n",
    "\n",
    "# Create the reference\n",
    "refSphere.GetReferences().AddReference('./' + path + 'SampleLayer.usda', '/MySphere')\n",
    "\n",
    "# Remove the translation operation applied to the base sphere's transform\n",
    "# https://graphics.pixar.com/usd/release/api/class_usd_geom_xformable.html#a4b6dd6e51eb84725c763d064c4f9f3ba\n",
    "refXform = UsdGeom.Xformable(refSphere)\n",
    "refXform.SetXformOpOrder([])\n",
    "\n",
    "# Print out the stage\n",
    "print(\"The Layer\\n\\n\")\n",
    "print(stage.GetRootLayer().ExportToString())\n",
    "print(\"\\n\\nThe result of Composition \\n\\n\")\n",
    "print(stage.Flatten().ExportToString())\n",
    "print(\"\\n\\n\")\n",
    "# Override the color of the sphere to be red\n",
    "overMeshData = UsdGeom.Sphere.Get(stage, '/refSphere/MeshData')\n",
    "overMeshData.GetDisplayColorAttr().Set([(1,0,0)])\n",
    "\n",
    "# Print out the stage\n",
    "print(\"The Layer\\n\\n\")\n",
    "print(stage.GetRootLayer().ExportToString())\n",
    "print(\"\\n\\nThe result of Composition \\n\\n\")\n",
    "print(stage.Flatten().ExportToString())\n",
    "\n",
    "# Save the resulting layer\n",
    "stage.GetRootLayer().Export(path + 'RefExample.usda')"
   ]
  },
  {
   "cell_type": "markdown",
   "metadata": {},
   "source": [
    "### Understanding Variants\n",
    "\n",
    "Variants and VariantSets allow a content author to provide a prim with multiple looks or forms with relative ease. \n",
    "\n",
    "From the [USD Glossary](https://graphics.pixar.com/usd/docs/USD-Glossary.html#USDGlossary-VariantSet):\n",
    "> A *VariantSet* is a composition arc that allows a content creator to package a discrete set of alternatives, between which a downstream consumer is able to non-destructively switch, or augment.  A reasonable way to think about VariantSets is as a \"switchable reference\".  Each Variant of a VariantSet encapsulates a tree of scene description that will be composed onto the prim on which the VariantSet is defined, when the Variant is selected.  VariantSet names must be legal USD identifiers.\n",
    "\n",
    "In the following example we will show how to add a VariantSet that lets the content creator select different colors for their sphere."
   ]
  },
  {
   "cell_type": "code",
   "execution_count": null,
   "metadata": {},
   "outputs": [],
   "source": [
    "from pxr import Usd, UsdGeom\n",
    "\n",
    "# Create a temporary  stage in memory\n",
    "stage = Usd.Stage.CreateInMemory('VariantExample.usda')\n",
    "\n",
    "# Create a place for the reference to live\n",
    "variantSphere = stage.OverridePrim('/variantSphere')\n",
    "\n",
    "# Create the reference\n",
    "variantSphere.GetReferences().AddReference('./' + path + 'SampleLayer.usda', '/MySphere')\n",
    "\n",
    "# Get the variantSphere Prim.\n",
    "variantXform = stage.GetPrimAtPath('/variantSphere')\n",
    "\n",
    "# Clear any color on the base sphere\n",
    "overMeshData = UsdGeom.Sphere.Get(stage, '/variantSphere/MeshData')\n",
    "colorAttr = overMeshData.GetDisplayColorAttr()\n",
    "colorAttr.Clear()\n",
    "\n",
    "# Add the VariantSet\n",
    "colorVariants = variantXform.GetVariantSets().AddVariantSet('ColorsRGB')\n",
    "\n",
    "# Add variants to the VariantSet\n",
    "colorVariants.AddVariant('red')\n",
    "colorVariants.AddVariant('green')\n",
    "colorVariants.AddVariant('blue')\n",
    "\n",
    "# Set the variant values\n",
    "colorVariants.SetVariantSelection('red')\n",
    "with colorVariants.GetVariantEditContext():\n",
    "    colorAttr.Set([(1,0,0)])\n",
    "\n",
    "colorVariants.SetVariantSelection('green')\n",
    "with colorVariants.GetVariantEditContext():\n",
    "    colorAttr.Set([(0,1,0)])\n",
    "\n",
    "colorVariants.SetVariantSelection('blue')\n",
    "with colorVariants.GetVariantEditContext():\n",
    "    colorAttr.Set([(0,0,1)])\n",
    "\n",
    "# Set the color to be green\n",
    "colorVariants.SetVariantSelection('green')\n",
    "\n",
    "print(\"\\n\\n The Layer\\n\\n\")\n",
    "print(stage.GetRootLayer().ExportToString())\n",
    "print(\"\\n\\n The Result of Composition\\n\\n\")\n",
    "print(stage.Flatten().ExportToString())\n",
    "\n",
    "# Save the resulting layer\n",
    "stage.Export(path + 'VariantExample.usda', addSourceFileComment=False)"
   ]
  },
  {
   "cell_type": "code",
   "execution_count": null,
   "metadata": {},
   "outputs": [],
   "source": [
    "display_usd(path + 'VariantExample.usda')"
   ]
  },
  {
   "cell_type": "markdown",
   "metadata": {},
   "source": [
    "## Prims, Attributes and Metadata"
   ]
  },
  {
   "cell_type": "markdown",
   "metadata": {},
   "source": [
    "Before we begin, let's define our data directory and a USD sphere."
   ]
  },
  {
   "cell_type": "code",
   "execution_count": null,
   "metadata": {},
   "outputs": [],
   "source": [
    "path = base_path + \"prims/\""
   ]
  },
  {
   "cell_type": "code",
   "execution_count": null,
   "metadata": {
    "id": "gr8anrjrLkJU"
   },
   "outputs": [],
   "source": [
    "%%file usd_files/advanced_usd/prims/sphere_sample.usda\n",
    "#usda 1.0\n",
    "\n",
    "def Sphere \"sphere\"\n",
    "{\n",
    "}"
   ]
  },
  {
   "cell_type": "markdown",
   "metadata": {
    "id": "Sl7Ua6G6FpKz"
   },
   "source": [
    "### Prims\n",
    "Working with [Prims](https://graphics.pixar.com/usd/docs/USD-Glossary.html#USDGlossary-Prim) is more complicated since Prims are extremely powerful objects in USD. Prims are referenced by their path in the stage, which is a string in the form of `/Prim/ChildPrim`. `/` is a special prim known as the root prim in a stage.\n",
    "\n",
    "To get a reference to a prim at a path use `stage_ref.GetPrimAtPath(path)`:"
   ]
  },
  {
   "cell_type": "code",
   "execution_count": null,
   "metadata": {
    "id": "9fJ8AuN1Fzwj"
   },
   "outputs": [],
   "source": [
    "from pxr import Sdf, Usd, UsdGeom\n",
    "\n",
    "stage_ref = Usd.Stage.Open(path + 'sphere_sample.usda')\n",
    "\n",
    "prim = stage_ref.GetPrimAtPath('/sphere')\n",
    "print(prim.GetName()) # Prints \"sphere\"\n",
    "print(prim.GetPrimPath()) # Prints \"/sphere\""
   ]
  },
  {
   "cell_type": "markdown",
   "metadata": {
    "id": "1clJziPQFzOb"
   },
   "source": [
    "To define a new prim use `stage_ref.DefinePrim(path)`:"
   ]
  },
  {
   "cell_type": "code",
   "execution_count": null,
   "metadata": {
    "id": "HCCvIRfmGDEb"
   },
   "outputs": [],
   "source": [
    "stage_ref = Usd.Stage.Open(path + 'sphere_sample.usda')\n",
    "\n",
    "prim = stage_ref.DefinePrim('/UnTypedPrim')\n",
    "print(prim.GetName()) # Prints \"UnTypedPrim\""
   ]
  },
  {
   "cell_type": "markdown",
   "metadata": {
    "id": "E82AGFcYGGaL"
   },
   "source": [
    "To define a new prim with a type use `stage_ref.DefinePrim(path, type_name)` or you can use your Type's `SomeType.Define(stage_ref, path)` method:"
   ]
  },
  {
   "cell_type": "code",
   "execution_count": null,
   "metadata": {
    "id": "j-W-VHJ6GLY8"
   },
   "outputs": [],
   "source": [
    "stage_ref = Usd.Stage.Open(path + 'sphere_sample.usda')\n",
    "\n",
    "prim = stage_ref.DefinePrim('/XformPrim', 'Xform')\n",
    "# Above we have a Usd.Prim, if we want to access all the Xform's types natively,\n",
    "# we need to get an Xform instance of our prim\n",
    "xform = UsdGeom.Xform(prim)\n",
    "\n",
    "print(xform.GetPath()) # Prints \"/XformPrim\"\n",
    "\n",
    "# It is often better to use the Define() method of your type right away, since\n",
    "# it returns your typed instance rather than a Usd.Prim instance\n",
    "\n",
    "xform_faster = UsdGeom.Xform.Define(stage_ref, '/AnotherXformPrim')"
   ]
  },
  {
   "cell_type": "markdown",
   "metadata": {
    "id": "r8zq9u2bGXU0"
   },
   "source": [
    "To delete a prim from the current edit layer (please refer to the [documentation about RemovePrim](https://graphics.pixar.com/usd/docs/api/class_usd_stage.html#ac605faad8fc2673263775b1eecad2955) for details), we can use `stage_ref.RemovePrim(path)`.\n",
    "\n",
    "<b>Note:</b> the below code cell is expected to return a `expired prim` warning."
   ]
  },
  {
   "cell_type": "code",
   "execution_count": null,
   "metadata": {
    "id": "Ld7Zz88YGf3b"
   },
   "outputs": [],
   "source": [
    "stage_ref = Usd.Stage.Open(path + 'sphere_sample.usda')\n",
    "prim = stage_ref.DefinePrim('/UnTypedPrim')\n",
    "\n",
    "if stage_ref.RemovePrim('/UnTypedPrim'):\n",
    "    print('/UnTypedPrim removed')\n",
    "\n",
    "# If you try to access the prim object, it will still reference path but it is\n",
    "# expired\n",
    "if (prim.IsValid()):\n",
    "    print('{} is valid'.format(prim.GetName()))\n",
    "else:\n",
    "    print('{} is not valid'.format(prim.GetName()))\n",
    "  \n",
    "# The above will print \"Accessed invalid expired prim </UnTypedPrim>\""
   ]
  },
  {
   "cell_type": "markdown",
   "metadata": {
    "id": "we85c_IeGppD"
   },
   "source": [
    "### Attributes\n",
    "[Attributes](https://graphics.pixar.com/usd/docs/USD-Glossary.html#USDGlossary-Attribute) are the workhorse of storing actual data inside a Prim. Attributes are often defined as part of [Schemas](https://graphics.pixar.com/usd/docs/USD-Glossary.html#USDGlossary-Schema) to make it easier to access context-relevant data from within an instance of that Type.\n",
    "\n",
    "For example, `Xform` typed Prims have an attribute called `Purpose` which is used to specify the purpose of an imageable prim. It contains one of the following values: `[default, render, proxy, guide]`\n",
    "\n",
    "We could get this attribute's value in two ways. One, as a generic `prim_ref.GetAttribute(name)` call, but we would have to know that the exact name of the attribute we want is \"purpose\", and we wouldn't be able to get any code completion in an IDE that way.\n",
    "\n",
    "The other way is to use the Xform Schema's exposed function for getting the purpose, which is `xform_ref.GetPurposeAttr()`, which returns the same object, but will be typed in an IDE and does not depend on the underlying string name of the attribute.\n",
    "\n",
    "Most often after we get an Attribute object, we will want to get the attribute's actual value or set it. That can be done with *attribute_ref.Get()* to retrieve the value, and `attribute_ref.Set(value)` to set the value.\n",
    "\n",
    "Let's see the code for getting an Attribute reference and getting its value:\n"
   ]
  },
  {
   "cell_type": "code",
   "execution_count": null,
   "metadata": {
    "id": "Z5qLyZ-NHEtV"
   },
   "outputs": [],
   "source": [
    "stage_ref = Usd.Stage.Open(path + 'sphere_sample.usda')\n",
    "\n",
    "# Get a reference to the Xform instance as well as a generic Prim instance\n",
    "xform_ref = UsdGeom.Xform.Define(stage_ref, '/XformPrim')\n",
    "prim_ref = xform_ref.GetPrim()\n",
    "\n",
    "# Get an attribute reference (not its value!)\n",
    "purpose_from_xform_ref = xform_ref.GetPurposeAttr()\n",
    "purpose_from_prim_ref = prim_ref.GetAttribute('purpose')\n",
    "\n",
    "print(purpose_from_xform_ref == purpose_from_prim_ref) # Prints \"True\"\n",
    "\n",
    "# Prints the actual attribute's value, in this case, one of [default, render,\n",
    "# proxy, guide], since it is the Xform's actual Purpose attribute\n",
    "print(purpose_from_xform_ref.Get())"
   ]
  },
  {
   "cell_type": "markdown",
   "metadata": {
    "id": "4QEhnGQXHNFz"
   },
   "source": [
    "To create an attribute that isn't part of a Type's namespace (or it is, but we want to create the attribute \"manually\"), we must pass the attribute name and its type to `prim_ref.CreateAttribute(name, type)`.\n",
    "\n",
    "Otherwise, most Types expose a `Set`-style command, for example `xform_ref.SetPurposeAttr(value)`.\n",
    "\n",
    "#### Working with Attributes\n",
    "\n",
    "We can call the `prim_ref.CreateAttribute(name, type)` function to create the attribute, and we can use the information above to select a valid `type`. It returns a reference to the attribute created, which we can set with `attribute_ref.Set(value)`, and again we can construct a valid value by looking up the constructor above."
   ]
  },
  {
   "cell_type": "code",
   "execution_count": null,
   "metadata": {
    "id": "gJU_efttH2tU"
   },
   "outputs": [],
   "source": [
    "stage_ref = Usd.Stage.CreateInMemory()\n",
    "\n",
    "# Create a Usd.Prim\n",
    "prim_ref = stage_ref.DefinePrim('/Prim')\n",
    "\n",
    "# Create an attribute reference, using an explicit reference to the type\n",
    "weight_attr = prim_ref.CreateAttribute('weight', Sdf.ValueTypeNames.Float)\n",
    "\n",
    "print(weight_attr.Get()) # Prints empty string for default Float values, not 0!\n",
    "\n",
    "print(weight_attr.Get() == None) # Prints \"True\"\n",
    "print(weight_attr.Get() == 0) # Prints \"False\"\n",
    "\n",
    "# To set an attribute we use the `attribute_ref.Set(value)` function\n",
    "weight_attr.Set(42.3)\n",
    "\n",
    "print(weight_attr.Get()) # Prints \"42.3\"\n",
    "\n",
    "# Also, you can chain calls like so\n",
    "print(prim_ref.GetPrim().GetAttribute('weight').Get()) # Prints \"42.3\""
   ]
  },
  {
   "cell_type": "markdown",
   "metadata": {},
   "source": [
    "## Hierarchy and Traversal"
   ]
  },
  {
   "cell_type": "code",
   "execution_count": null,
   "metadata": {},
   "outputs": [],
   "source": [
    "path = base_path + \"hierarchy/\""
   ]
  },
  {
   "cell_type": "markdown",
   "metadata": {},
   "source": [
    "USD Stages are organized in a hierarchy of Prims: there is a special root prim at `/` and it may have N-number of direct Prim descendants, each of which can have their own tree of Prim descendants.\n",
    "\n",
    "The path to a Prim is described by a string which starts with the root prim `/` and contains the Prim name separated by the path separator `/` until the last component is the desired Prim's name.\n",
    "\n",
    "For example `/Car/Wheel/Tire` refers to the `Tire` prim which has parent `Wheel` and grandparent `Car`. `Car`'s parent is the special root prim `/`.\n",
    "\n",
    "In the Tutorial section on Stages there is information on how to retrieve a Prim at a given path using `stage_ref.GetPrimAtPath()`.\n",
    "\n",
    "Here is a refresher, we'll assume *car.usda* has the `/Car/Wheel/Tire` path:"
   ]
  },
  {
   "cell_type": "code",
   "execution_count": null,
   "metadata": {},
   "outputs": [],
   "source": [
    "%%file usd_files/advanced_usd/hierarchy/car.usda\n",
    "#usda 1.0\n",
    "\n",
    "def \"Car\" {\n",
    "    def \"Wheel\" {\n",
    "        def \"Tire\" {\n",
    "            \n",
    "        }\n",
    "    }\n",
    "}"
   ]
  },
  {
   "cell_type": "code",
   "execution_count": null,
   "metadata": {},
   "outputs": [],
   "source": [
    "from pxr import Usd\n",
    "\n",
    "stage_ref = Usd.Stage.Open(path + 'car.usda')\n",
    "prim_ref = stage_ref.GetPrimAtPath('/Car')"
   ]
  },
  {
   "cell_type": "markdown",
   "metadata": {},
   "source": [
    "If we want to get a specific child of a Prim, and we know the name, we can use `prim_ref.GetChild(child_name)`:"
   ]
  },
  {
   "cell_type": "code",
   "execution_count": null,
   "metadata": {},
   "outputs": [],
   "source": [
    "stage_ref = Usd.Stage.Open(path + 'car.usda')\n",
    "\n",
    "prim_ref = stage_ref.GetPrimAtPath('/Car')\n",
    "child_prim_ref = prim_ref.GetChild('Wheel')\n",
    "\n",
    "# Prims can be cast as bool, so you can check if the prim exists by comparing\n",
    "# its bool() overload\n",
    "if child_prim_ref:\n",
    "    print(\"/Car/Wheel exists\") # This will execute\n",
    "\n",
    "print(child_prim_ref.GetPath()) # Prints \"\"/Car/Wheel\""
   ]
  },
  {
   "cell_type": "markdown",
   "metadata": {},
   "source": [
    "If we want to get all the children of a Prim, we can use `prim_ref.GetChildren()` which returns a list of prim references:"
   ]
  },
  {
   "cell_type": "code",
   "execution_count": null,
   "metadata": {},
   "outputs": [],
   "source": [
    "stage_ref = Usd.Stage.Open(path + 'car.usda')\n",
    "\n",
    "prim_ref = stage_ref.GetPrimAtPath('/Car')\n",
    "\n",
    "# Will return [Usd.Prim(</Car/Wheel>)]\n",
    "children_refs = prim_ref.GetChildren()"
   ]
  },
  {
   "cell_type": "markdown",
   "metadata": {},
   "source": [
    "If we want to traverse the entire stage, the `stage_ref.Traverse()` function is perfect for that, it returns an iterator:"
   ]
  },
  {
   "cell_type": "code",
   "execution_count": null,
   "metadata": {},
   "outputs": [],
   "source": [
    "stage_ref = Usd.Stage.Open(path + 'car.usda')\n",
    "\n",
    "for prim_ref in stage_ref.Traverse():\n",
    "    print(prim_ref.GetPath())"
   ]
  },
  {
   "cell_type": "markdown",
   "metadata": {},
   "source": [
    "There are more advanced traversal methods described in the [UsdStage](https://graphics.pixar.com/usd/docs/api/class_usd_stage.html#adba675b55f41cc1b305bed414fc4f178) documentation."
   ]
  },
  {
   "cell_type": "markdown",
   "metadata": {},
   "source": [
    "Congratulations on completing this notebook!\n",
    "\n",
    "## Next steps\n",
    "\n",
    "Now that you've gained some exposure to the fundamental concepts of USD and how to manipulate content using Python, we encourage you to continue on your learning journey with additional resources:\n",
    " * Refer back to the _USD Fundamentals_ to revisit some of the learnings you've made, and see how Python lets you easily apply them\n",
    " * Learn more about [the features that USD offers](https://usd.nvidia.com)\n",
    " * See how [Omniverse](https://developer.nvidia.com/nvidia-omniverse-platform) can let you express your creativity\n"
   ]
  },
  {
   "cell_type": "markdown",
   "metadata": {},
   "source": [
    "<a href=\"https://www.nvidia.com/dli\"> <img src=\"images/DLI_Header.png\" alt=\"Header\" style=\"width: 400px;\"/> </a>"
   ]
  }
 ],
 "metadata": {
  "kernelspec": {
   "display_name": "Python 3",
   "language": "python",
   "name": "python3"
  },
  "language_info": {
   "codemirror_mode": {
    "name": "ipython",
    "version": 3
   },
   "file_extension": ".py",
   "mimetype": "text/x-python",
   "name": "python",
   "nbconvert_exporter": "python",
   "pygments_lexer": "ipython3",
   "version": "3.7.6"
  }
 },
 "nbformat": 4,
 "nbformat_minor": 5
}
