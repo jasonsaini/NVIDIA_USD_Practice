{
 "cells": [
  {
   "cell_type": "markdown",
   "metadata": {},
   "source": [
    "<a href=\"https://www.nvidia.com/dli\"> <img src=\"images/DLI_Header.png\" alt=\"Header\" style=\"width: 400px;\"/> </a>"
   ]
  },
  {
   "cell_type": "markdown",
   "metadata": {},
   "source": [
    "<sub>**Note**: To run all the code at once, click the <span style=\"letter-spacing:-3px;\">**&blacktriangleright;&blacktriangleright;**</span> &nbsp;&nbsp;button. To run code blocks one at a time, type *shift+enter* or click the **&blacktriangleright;** button.</sub>"
   ]
  },
  {
   "cell_type": "markdown",
   "metadata": {
    "id": "9J162BlQqyO3"
   },
   "source": [
    "# USD Fundamentals\n",
    "\n",
    "## Learning Objectives\n",
    "\n",
    "Through a series of videos and hands-on code samples, this Jupyter notebook will demonstrate some of USD's fundamental features. \n",
    "\n",
    "Upon completion you will have a working understanding of the USD scene description format and how to leverage its features in a collaborative pipeline.\n",
    "\n",
    "* [USD Format Overview](#USD-Format-Overview)\n",
    "* [How to use USD Sublayers](#Sublayers)\n",
    "* [How to use USD References](#References)\n",
    "* [How to use USD Variants](#Variants)\n"
   ]
  },
  {
   "cell_type": "markdown",
   "metadata": {},
   "source": [
    "## Setup\n",
    "\n",
    "Since visualizing USD content typically requires installing software on a workstation, we have created tools to assist in previewing content created during this lab. While these tools only surface a subset of everything USD has to offer, we hope this will provide a more wholesome learning experience, and encourage you to continue this learning journey towards [USD](https://usd.nvidia.com) and [Omniverse](https://developer.nvidia.com/nvidia-omniverse-platform)."
   ]
  },
  {
   "cell_type": "code",
   "execution_count": null,
   "metadata": {},
   "outputs": [],
   "source": [
    "from utils.display import display_usd"
   ]
  },
  {
   "cell_type": "markdown",
   "metadata": {},
   "source": [
    "We have also created a `/usd_fundamentals` folder under the `/usd_files` directory, in order to hold the generated USD files for this lab. Feel free to navigate to this location using the file viewer on the left-hand side of the Jupyter interface should you want to save or edit your content. In order to download a file, right click it and select \"Download\"."
   ]
  },
  {
   "cell_type": "markdown",
   "metadata": {},
   "source": [
    "## USD Format Overview"
   ]
  },
  {
   "cell_type": "code",
   "execution_count": 1,
   "metadata": {
    "jupyter": {
     "source_hidden": true
    }
   },
   "outputs": [
    {
     "data": {
      "text/html": [
       "\n",
       "            <div style=\"width: 100%; text-align: center;\">\n",
       "                <iframe\n",
       "                    src=\"https://cdnapisec.kaltura.com/p/2935771/embedPlaykitJs/uiconf_id/46302491?iframeembed=true&entry_id=1_k9eix8fk\"\n",
       "                    width=\"640\"\n",
       "                    height=\"360\"\n",
       "                    frameborder=\"0\"\n",
       "                    allow=\"fullscreen;\"\n",
       "                >\n",
       "                </iframe>\n",
       "            </div>\n",
       "            "
      ],
      "text/plain": [
       "<IPython.core.display.HTML object>"
      ]
     },
     "metadata": {},
     "output_type": "display_data"
    }
   ],
   "source": [
    "from utils.display import display_video\n",
    "display_video(\"1_k9eix8fk\")"
   ]
  },
  {
   "cell_type": "markdown",
   "metadata": {
    "id": "V5OPwHkQ14Ez"
   },
   "source": [
    "First, let's discuss some things about USD that are common with other file formats.\n",
    "\n",
    "A USD file, which is often called a _layer_, is a lot like other graphics files: a single file can contain models, meshes, lights, shaders, and other useful graphic primitives.\n",
    "\n",
    "A USD file can have multiple representations. The most common are:\n",
    " * `.USDC` files (also called _crate_ files), compressed and memory-mapped, fast-access file format.\n",
    " * `.USDA` files are human-readable files. This can be useful to understand what is in a USD file without rendering it, and for debugging and experimenting.\n",
    " * `.USDZ` files are ZIP archives containing a USD layer and its supporting files like textures, for rendering.\n",
    "\n",
    "In this guide, we will be using the USDA representation, as it is the most appropriate to visualize the structure of USD scenes."
   ]
  },
  {
   "cell_type": "markdown",
   "metadata": {
    "id": "I99dKvj2nJns"
   },
   "source": [
    "### First steps into USD\n",
    "\n",
    "The following _cube.usda_ file is a very simple USD file which only contains a cube. We have defined a transform called \"World\", and a Mesh called \"Cube\". Each of these are an example of a [Prim](https://graphics.pixar.com/usd/docs/USD-Glossary.html#USDGlossary-Prim), an abstract container for USD content. `Prim`s are defined with the `def` keyword, and can contain data expressed properties and attributes.\n",
    "\n",
    "If you look at the text representation of the mesh, you will find it has all the properties you might expect a mesh to have like vertex counts, vertices, normals, and display colors.\n",
    "\n",
    "Feel free to render the cube, and to modify any of its properties to see how they affect the scene:"
   ]
  },
  {
   "cell_type": "code",
   "execution_count": null,
   "metadata": {
    "colab": {
     "base_uri": "https://localhost:8080/"
    },
    "id": "Ixqo-bX4HW0o",
    "outputId": "4035343c-ad47-4674-df98-a4c84b721c7e"
   },
   "outputs": [],
   "source": [
    "%%file usd_files/usd_fundamentals/cube.usda\n",
    "#usda 1.0\n",
    "\n",
    "def Xform \"World\"\n",
    "{\n",
    "  def Mesh \"Cube\"\n",
    "  {\n",
    "    # Cube geometry:\n",
    "    float3[] extent = [(-0.5, -0.5, -0.5), (0.5, 0.5, 0.5)]\n",
    "    int[] faceVertexCounts = [4, 4, 4, 4, 4, 4]\n",
    "    int[] faceVertexIndices = [0, 1, 3, 2, 2, 3, 5, 4, 4, 5, 7, 6, 6, 7, 1, 0, 1, 7, 5, 3, 6, 0, 2, 4]\n",
    "    point3f[] points = [(-0.5, -0.5, 0.5), (0.5, -0.5, 0.5), (-0.5, 0.5, 0.5), (0.5, 0.5, 0.5), (-0.5, 0.5, -0.5), (0.5, 0.5, -0.5), (-0.5, -0.5, -0.5), (0.5, -0.5, -0.5)]\n",
    "    \n",
    "    # Surface color:\n",
    "    color3f[] primvars:displayColor = [(0.463, 0.725, 0.0)]\n",
    "    \n",
    "    # Coordinates:\n",
    "    double3 xformOp:translate = (1.0, 0.0, 0.0)\n",
    "    double3 xformOp:rotateXYZ = (0.0, 45.0, 0.0)\n",
    "    float3 xformOp:scale = (1.0, 1.0, 1.0)\n",
    "    uniform token[] xformOpOrder = [\"xformOp:translate\", \"xformOp:rotateXYZ\", \"xformOp:scale\"]\n",
    "  }\n",
    "}"
   ]
  },
  {
   "cell_type": "markdown",
   "metadata": {
    "id": "_pkjfpIm1ilM"
   },
   "source": [
    "### Render the scene\n",
    "\n",
    "Let's see how this content looks like in 3D:"
   ]
  },
  {
   "cell_type": "code",
   "execution_count": null,
   "metadata": {
    "colab": {
     "base_uri": "https://localhost:8080/",
     "height": 164
    },
    "id": "Kah2zapnHlBl",
    "outputId": "da1aea18-045d-455a-f4d9-4a0feccec1ba"
   },
   "outputs": [],
   "source": [
    "display_usd('usd_files/usd_fundamentals/cube.usda')"
   ]
  },
  {
   "cell_type": "markdown",
   "metadata": {},
   "source": [
    "**TODO**: Try modifying [usd_files/usd_fundamentals/cube.usda](usd_files/usd_fundamentals/cube.usda) and rerendering the scene above. Can you change the color, rotation, or scale?"
   ]
  },
  {
   "cell_type": "markdown",
   "metadata": {
    "id": "ZCesG8RtsbpW"
   },
   "source": [
    "## USD Composition Arcs"
   ]
  },
  {
   "cell_type": "code",
   "execution_count": 2,
   "metadata": {
    "jupyter": {
     "source_hidden": true
    }
   },
   "outputs": [
    {
     "data": {
      "text/html": [
       "\n",
       "            <div style=\"width: 100%; text-align: center;\">\n",
       "                <iframe\n",
       "                    src=\"https://cdnapisec.kaltura.com/p/2935771/embedPlaykitJs/uiconf_id/46302491?iframeembed=true&entry_id=1_z21wbyrb\"\n",
       "                    width=\"640\"\n",
       "                    height=\"360\"\n",
       "                    frameborder=\"0\"\n",
       "                    allow=\"fullscreen;\"\n",
       "                >\n",
       "                </iframe>\n",
       "            </div>\n",
       "            "
      ],
      "text/plain": [
       "<IPython.core.display.HTML object>"
      ]
     },
     "metadata": {},
     "output_type": "display_data"
    }
   ],
   "source": [
    "display_video(\"1_z21wbyrb\")"
   ]
  },
  {
   "cell_type": "markdown",
   "metadata": {},
   "source": [
    "What makes USD unique?\n",
    "\n",
    "So far, we've only talked about things that are easily accomplished in other kinds of graphics files. One of the most interesting features of USD is the idea of layer composition.\n",
    "\n",
    "Layer composition refers to the ways USD files can be combined together. There are a number of ways you can combine USD files, and these are usually referred to as _composition arcs_.\n",
    "\n",
    "There are 6 kinds of composition arcs in USD:\n",
    "\n",
    " 1. **Sublayers**: similar to layers in Photoshop, sublayers in USD define a stack of USD layers. A stack is in strength order, and sublayers can override each other. If two sublayers have values for the same attribute, the strongest sublayer wins.\n",
    " 2. **References**: used to add new items into a scene. For instance, if you have a chair model, and you want 4 chairs around a table, you could add 4 references to the chair model.\n",
    " 3. **Payloads**: like a reference that can be loaded in a deferred way. You can open a scene and choose which item of the scene to load in memory.\n",
    " 4. **Variants**: used to switch between items in a collection. For example, if the chair model had a weather version, a wood version and an Eames version, a variant would let us choose between them.\n",
    " 5. **Inherits**: works in a similar fashion to a class in an object-oriented programming language. You define a class of items, like \"Humans\", which all have an `eyeColor` property. All human Prims could inherit from that class, and automatically have the shared `eyeColor` property.\n",
    " 6. **Specializes**: behaves in a similar way to _Inherits_, but with subtle differences that may be too specific for the scope of this brief overview."
   ]
  },
  {
   "cell_type": "markdown",
   "metadata": {},
   "source": [
    "## Sublayers"
   ]
  },
  {
   "cell_type": "code",
   "execution_count": 3,
   "metadata": {
    "jupyter": {
     "source_hidden": true
    }
   },
   "outputs": [
    {
     "data": {
      "text/html": [
       "\n",
       "            <div style=\"width: 100%; text-align: center;\">\n",
       "                <iframe\n",
       "                    src=\"https://cdnapisec.kaltura.com/p/2935771/embedPlaykitJs/uiconf_id/46302491?iframeembed=true&entry_id=1_4isqdezo\"\n",
       "                    width=\"640\"\n",
       "                    height=\"360\"\n",
       "                    frameborder=\"0\"\n",
       "                    allow=\"fullscreen;\"\n",
       "                >\n",
       "                </iframe>\n",
       "            </div>\n",
       "            "
      ],
      "text/plain": [
       "<IPython.core.display.HTML object>"
      ]
     },
     "metadata": {},
     "output_type": "display_data"
    }
   ],
   "source": [
    "display_video(\"1_4isqdezo\")"
   ]
  },
  {
   "cell_type": "markdown",
   "metadata": {
    "id": "MW8Wk8ClkwfC"
   },
   "source": [
    "The following USDA file demonstrates the features of the sublayer composition arc, by:\n",
    " * Referencing the _cube.usda_ file created earlier, on top of which a new _blue-cube.usda_ file is stacked.\n",
    " * The _blue-cube.usda_ file being on top of the sublayer stack, the properties it has in common with the \"weaker\" _cube.usda_ file carry more weight.\n",
    " * For demonstration purposes, we use this fact to force the cube to have a blue `displayColor` property by using an `over` on the mesh to overwrite any previously-set values.\n",
    "\n",
    "Feel free to go back to the _cube.usda_ file and edit any of its properties, or to overwrite any additional properties to see the effect of stacking layers on the composition of the final render:"
   ]
  },
  {
   "cell_type": "code",
   "execution_count": null,
   "metadata": {
    "colab": {
     "base_uri": "https://localhost:8080/"
    },
    "id": "w_9yxfe3Pjpd",
    "outputId": "6e4ff06c-237a-4bc2-8780-f46345171bd5"
   },
   "outputs": [],
   "source": [
    "%%file usd_files/usd_fundamentals/blue-cube.usda\n",
    "#usda 1.0\n",
    "\n",
    "over Xform \"World\" {\n",
    "  over Mesh \"Cube\" {\n",
    "    # Try uncommenting additional properties to see the effect on the final\n",
    "    # render, or adding new ones and see how it affects the scene:\n",
    "    color3f[] primvars:displayColor = [(0.0, 0.0, 1.0)]\n",
    "    # double3 xformOp:rotateXYZ = (45.0, 45.0, 0.0)\n",
    "    # float3 xformOp:scale = (1.0, 2.0, 3.0)\n",
    "  }\n",
    "}"
   ]
  },
  {
   "cell_type": "code",
   "execution_count": null,
   "metadata": {
    "colab": {
     "base_uri": "https://localhost:8080/"
    },
    "id": "g0egQ4I1Pqnr",
    "outputId": "825af6f6-8353-466c-8786-78f371b32f23"
   },
   "outputs": [],
   "source": [
    "%%file usd_files/usd_fundamentals/cube-model.usda\n",
    "#usda 1.0\n",
    "\n",
    "(\n",
    "  subLayers = [\n",
    "    @./blue-cube.usda@,\n",
    "    @./cube.usda@\n",
    "  ]\n",
    ")"
   ]
  },
  {
   "cell_type": "markdown",
   "metadata": {
    "id": "61EgJw_q3iJs"
   },
   "source": [
    "### Render the scene"
   ]
  },
  {
   "cell_type": "code",
   "execution_count": null,
   "metadata": {
    "colab": {
     "base_uri": "https://localhost:8080/",
     "height": 167
    },
    "id": "wSqppn_jPu9k",
    "outputId": "6ab186f3-7dfc-4c98-b275-cef994b3ab6f"
   },
   "outputs": [],
   "source": [
    "display_usd('usd_files/usd_fundamentals/cube-model.usda')"
   ]
  },
  {
   "cell_type": "markdown",
   "metadata": {},
   "source": [
    "**TODO**: Try uncommenting lines 9 and 10 from [usd_files/usd_fundamentals/blue-cube.usda](usd_files/usd_fundamentals/blue-cube.usda) and rerender the scene using the code cell above. Can you spot the difference?"
   ]
  },
  {
   "cell_type": "markdown",
   "metadata": {},
   "source": [
    "## References"
   ]
  },
  {
   "cell_type": "code",
   "execution_count": 4,
   "metadata": {
    "jupyter": {
     "source_hidden": true
    }
   },
   "outputs": [
    {
     "data": {
      "text/html": [
       "\n",
       "            <div style=\"width: 100%; text-align: center;\">\n",
       "                <iframe\n",
       "                    src=\"https://cdnapisec.kaltura.com/p/2935771/embedPlaykitJs/uiconf_id/46302491?iframeembed=true&entry_id=1_y7qw6fhh\"\n",
       "                    width=\"640\"\n",
       "                    height=\"360\"\n",
       "                    frameborder=\"0\"\n",
       "                    allow=\"fullscreen;\"\n",
       "                >\n",
       "                </iframe>\n",
       "            </div>\n",
       "            "
      ],
      "text/plain": [
       "<IPython.core.display.HTML object>"
      ]
     },
     "metadata": {},
     "output_type": "display_data"
    }
   ],
   "source": [
    "display_video(\"1_y7qw6fhh\")"
   ]
  },
  {
   "cell_type": "markdown",
   "metadata": {},
   "source": [
    "References are for combining assets together.\n",
    "\n",
    "Let's say we want to create a scene with a collection of models. For our purposes, we'll make a scene with 4 of our cube models in it.\n",
    "\n",
    "One way to do that in USD is to use references. Here, we'll be adding 4 references to the _cube-model.usda_ file we created earlier. \n",
    "\n",
    "One nice side-effect of this setup is that the _cube-model.usda_ asset is only loaded into memory once. As you can see, we have defined 3 Prims, each one referencing the USDA file we created earlier.\n",
    "\n",
    "A few things worth mentioning:\n",
    " 1. Notice that the \"CubeOne\" `def` does not specify that the Prim is a `Mesh`. This is because USD is able to infer the type from the object it references.\n",
    " 2. If you look at the reference path, notice that it has a file path for _cube-model.usda_ in the current directory, but also a Prim path to `/World/Cube`. This indicates that we want to *only* reference the \"Cube\" Prim and not any other Prim which may also be contained in the file.\n",
    " 3. Notice that we set a translation on the 3 last cubes to slide them down the X axis to separate them in 3D space. By doing this in the text, we've overridden the transform on the cube that we brought in, which was located at the origin. You could override any other attributes in the same way, like the color, changing vertices, or even adding new geometry or assigning new shaders."
   ]
  },
  {
   "cell_type": "code",
   "execution_count": null,
   "metadata": {
    "colab": {
     "base_uri": "https://localhost:8080/"
    },
    "id": "Q9X-ezu-P7s9",
    "outputId": "8ab13c75-77c5-4f2d-e082-40937a1de7d7"
   },
   "outputs": [],
   "source": [
    "%%file usd_files/usd_fundamentals/my-scene.usda\n",
    "#usda 1.0\n",
    "\n",
    "def Xform \"World\" {\n",
    "\n",
    "  def \"CubeOne\" (references = @./cube-model.usda@</World/Cube>) {\n",
    "    \n",
    "  }\n",
    "\n",
    "  def \"CubeTwo\" (references = [@./cube-model.usda@</World/Cube>]) {\n",
    "    # Try changing the position of one of the references:\n",
    "    double3 xformOp:translate = (4.0, 0.0, 0.0)\n",
    "    uniform token[] xformOpOrder = [\"xformOp:translate\"]\n",
    "  }\n",
    "\n",
    "  def \"CubeThree\" (references = [@./cube-model.usda@</World/Cube>]) {\n",
    "    # ... or its scale:\n",
    "    float3 xformOp:scale = (2.0, 2.0, 2.0)\n",
    "    double3 xformOp:translate = (2.25, 0.0, 0.0)\n",
    "    uniform token[] xformOpOrder = [\"xformOp:scale\", \"xformOp:translate\"]\n",
    "  }\n",
    "\n",
    "  def \"CubeFour\" (references = [@./cube-model.usda@</World/Cube>]) {\n",
    "    # ... or even multiple properties at once:\n",
    "    float3 xformOp:scale = (1.5, 2.5, 4.0)\n",
    "    double3 xformOp:translate = (4.5, 0.0, 0.0)\n",
    "    uniform token[] xformOpOrder = [\"xformOp:scale\", \"xformOp:translate\"]\n",
    "    color3f[] primvars:displayColor = [(0.8, 0.2, 0.5)]\n",
    "  }\n",
    "}"
   ]
  },
  {
   "cell_type": "markdown",
   "metadata": {
    "id": "MPUcgN5KGL9u"
   },
   "source": [
    "### Render the scene"
   ]
  },
  {
   "cell_type": "code",
   "execution_count": null,
   "metadata": {
    "colab": {
     "base_uri": "https://localhost:8080/",
     "height": 398
    },
    "id": "rScIz8WpQH3E",
    "outputId": "2810e1be-1e9a-4fa3-808a-dc5991ad93d6"
   },
   "outputs": [],
   "source": [
    "display_usd('usd_files/usd_fundamentals/my-scene.usda')"
   ]
  },
  {
   "cell_type": "markdown",
   "metadata": {},
   "source": [
    "**TODO**: This scene has four cubes, but only three are clearly visible. Can you alter [usd_files/usd_fundamentals/my-scene.usda](usd_files/usd_fundamentals/my-scene.usda) to make all four cubes clearly visible? If you've been experimenting with the previous USD files, you may have already done so."
   ]
  },
  {
   "cell_type": "markdown",
   "metadata": {},
   "source": [
    "## Variants"
   ]
  },
  {
   "cell_type": "code",
   "execution_count": 5,
   "metadata": {
    "jupyter": {
     "source_hidden": true
    }
   },
   "outputs": [
    {
     "data": {
      "text/html": [
       "\n",
       "            <div style=\"width: 100%; text-align: center;\">\n",
       "                <iframe\n",
       "                    src=\"https://cdnapisec.kaltura.com/p/2935771/embedPlaykitJs/uiconf_id/46302491?iframeembed=true&entry_id=1_jpkegw1q\"\n",
       "                    width=\"640\"\n",
       "                    height=\"360\"\n",
       "                    frameborder=\"0\"\n",
       "                    allow=\"fullscreen;\"\n",
       "                >\n",
       "                </iframe>\n",
       "            </div>\n",
       "            "
      ],
      "text/plain": [
       "<IPython.core.display.HTML object>"
      ]
     },
     "metadata": {},
     "output_type": "display_data"
    }
   ],
   "source": [
    "display_video(\"1_jpkegw1q\")"
   ]
  },
  {
   "cell_type": "markdown",
   "metadata": {
    "id": "v_1VCQPUrgf_"
   },
   "source": [
    "Variants are a clever way in which properties of an asset can be toggled between different states, or \"flavors\". This can include a variety of use cases in which assets only differ by a few of their properties.\n",
    "\n",
    "Examples of this can include:\n",
    " * Models of t-shirts, which only differ by `displayColor`.\n",
    " * Models of billboards in the background of a shot, which only differ by the texture of the sponsors with the highest bid.\n",
    " * Spaceship models, which only differ by their geometry to represent the level of damage they might have sustained during a battle scene.\n",
    "\n",
    "The following example demonstrates a simplistic example of variants, where the display color of the cube can be toggled between `red`, `green` or `blue`. Try changing the `shadingVariant` and rerendering the asset to see how the affect the final render:"
   ]
  },
  {
   "cell_type": "code",
   "execution_count": null,
   "metadata": {
    "colab": {
     "base_uri": "https://localhost:8080/"
    },
    "id": "b7Yzbu9fr14-",
    "outputId": "6a7099c6-a10c-41ca-cfe9-151f2d2f7bd1"
   },
   "outputs": [],
   "source": [
    "%%file usd_files/usd_fundamentals/cube-variants.usda\n",
    "#usda 1.0\n",
    "\n",
    "def Xform \"World\"\n",
    "{\n",
    "  def Xform \"Object\"(\n",
    "    variants = {\n",
    "      # Try changing the shading variant to either \"red\", \"green\" or \"blue\":\n",
    "      string shadingVariant = \"green\"\n",
    "    }\n",
    "    prepend variantSets = \"shadingVariant\"\n",
    "  )\n",
    "  {\n",
    "    def \"Cube\" (references = @./cube-model.usda@</World/Cube>)\n",
    "    {\n",
    "      # Coordinates:\n",
    "      double3 xformOp:translate = (0.0, 0.0, 0.0)\n",
    "      double3 xformOp:rotateXYZ = (0.0, 45.0, 0.0)\n",
    "      float3 xformOp:scale = (1.0, 1.0, 1.0)\n",
    "      uniform token[] xformOpOrder = [\"xformOp:translate\", \"xformOp:rotateXYZ\", \"xformOp:scale\"]\n",
    "     \n",
    "      # Colors (set by specifying the \"shadingVariant\" on the \"Cube\" above):\n",
    "      color3f[] primvars:displayColor\n",
    "    }\n",
    "\n",
    "    variantSet \"shadingVariant\" = {\n",
    "      \"red\" {\n",
    "        over \"Cube\" {\n",
    "          color3f[] primvars:displayColor = [(1.0, 0.0, 0.0)]\n",
    "        }\n",
    "      }\n",
    "\n",
    "      \"green\" {\n",
    "        over \"Cube\" {\n",
    "          color3f[] primvars:displayColor = [(0.0, 1.0, 0.0)]\n",
    "        }\n",
    "      }\n",
    "\n",
    "      \"blue\" {\n",
    "        over \"Cube\" {\n",
    "          color3f[] primvars:displayColor = [(0.0, 0.0, 1.0)]\n",
    "        }\n",
    "      }\n",
    "    }\n",
    "  }\n",
    "}"
   ]
  },
  {
   "cell_type": "markdown",
   "metadata": {
    "id": "_m1g0h0erwTe"
   },
   "source": [
    "### Render the scene"
   ]
  },
  {
   "cell_type": "code",
   "execution_count": null,
   "metadata": {
    "colab": {
     "base_uri": "https://localhost:8080/"
    },
    "id": "EBzAOctorvc-",
    "outputId": "908807f6-3da4-4e3e-8c01-3948465720e8"
   },
   "outputs": [],
   "source": [
    "display_usd('usd_files/usd_fundamentals/cube-variants.usda')"
   ]
  },
  {
   "cell_type": "markdown",
   "metadata": {},
   "source": [
    "**TODO**: Try changing `shadingVariant` on line 9 of [usd_files/usd_fundamentals/cube-variants.usda](usd_files/usd_fundamentals/cube-variants.usda) to either `red` or `blue`. Want an extra challenge? Try adding another color variant."
   ]
  },
  {
   "cell_type": "markdown",
   "metadata": {},
   "source": [
    "## Recap: USD Composition Arcs"
   ]
  },
  {
   "cell_type": "code",
   "execution_count": 5,
   "metadata": {
    "jupyter": {
     "source_hidden": true
    }
   },
   "outputs": [
    {
     "data": {
      "text/html": [
       "\n",
       "            <div style=\"width: 100%; text-align: center;\">\n",
       "                <iframe\n",
       "                    src=\"https://cdnapisec.kaltura.com/p/2935771/embedPlaykitJs/uiconf_id/46302491?iframeembed=true&entry_id=1_3d4zsmce\"\n",
       "                    width=\"640\"\n",
       "                    height=\"360\"\n",
       "                    frameborder=\"0\"\n",
       "                    allow=\"fullscreen;\"\n",
       "                >\n",
       "                </iframe>\n",
       "            </div>\n",
       "            "
      ],
      "text/plain": [
       "<IPython.core.display.HTML object>"
      ]
     },
     "metadata": {},
     "output_type": "display_data"
    }
   ],
   "source": [
    "display_video(\"1_3d4zsmce\")"
   ]
  },
  {
   "cell_type": "markdown",
   "metadata": {},
   "source": [
    "**Congratulations on completing this notebook!**\n",
    "\n",
    "## Next steps\n",
    "\n",
    "Now that you've gained some exposure to the fundamental concepts of USD, we encourage you to continue on your learning journey with additional resources:\n",
    " * See the [Advanced USD](02_Advanced_USD.ipynb) training to learn how these concepts are used in production, using Python.\n",
    " * Learn more about [the features that USD offers](https://usd.nvidia.com).\n",
    " * Download [Omniverse](https://developer.nvidia.com/nvidia-omniverse-platform) to see how it can let you express your creativity:"
   ]
  },
  {
   "cell_type": "code",
   "execution_count": 6,
   "metadata": {
    "jupyter": {
     "source_hidden": true
    }
   },
   "outputs": [
    {
     "data": {
      "text/html": [
       "\n",
       "            <div style=\"width: 100%; text-align: center;\">\n",
       "                <iframe\n",
       "                    src=\"https://cdnapisec.kaltura.com/p/2935771/embedPlaykitJs/uiconf_id/46302491?iframeembed=true&entry_id=1_83x1r2o2\"\n",
       "                    width=\"640\"\n",
       "                    height=\"360\"\n",
       "                    frameborder=\"0\"\n",
       "                    allow=\"fullscreen;\"\n",
       "                >\n",
       "                </iframe>\n",
       "            </div>\n",
       "            "
      ],
      "text/plain": [
       "<IPython.core.display.HTML object>"
      ]
     },
     "metadata": {},
     "output_type": "display_data"
    }
   ],
   "source": [
    "display_video(\"1_83x1r2o2\")"
   ]
  },
  {
   "cell_type": "markdown",
   "metadata": {},
   "source": [
    "<a href=\"https://www.nvidia.com/dli\"> <img src=\"images/DLI_Header.png\" alt=\"Header\" style=\"width: 400px;\"/> </a>"
   ]
  }
 ],
 "metadata": {
  "colab": {
   "collapsed_sections": [
    "71pKeLnCaQEl",
    "nKE4CA_DbZof"
   ],
   "name": "Introduction to USD: USD Basics.ipynb",
   "provenance": []
  },
  "kernelspec": {
   "display_name": "Python 3",
   "language": "python",
   "name": "python3"
  },
  "language_info": {
   "codemirror_mode": {
    "name": "ipython",
    "version": 3
   },
   "file_extension": ".py",
   "mimetype": "text/x-python",
   "name": "python",
   "nbconvert_exporter": "python",
   "pygments_lexer": "ipython3",
   "version": "3.7.6"
  }
 },
 "nbformat": 4,
 "nbformat_minor": 4
}
